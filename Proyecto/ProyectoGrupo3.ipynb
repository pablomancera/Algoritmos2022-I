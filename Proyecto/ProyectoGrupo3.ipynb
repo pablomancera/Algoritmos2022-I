{
  "nbformat": 4,
  "nbformat_minor": 0,
  "metadata": {
    "colab": {
      "name": "ProyectoGrupo3.ipynb",
      "provenance": [],
      "collapsed_sections": [],
      "include_colab_link": true
    },
    "kernelspec": {
      "name": "python3",
      "display_name": "Python 3"
    },
    "language_info": {
      "name": "python"
    }
  },
  "cells": [
    {
      "cell_type": "markdown",
      "metadata": {
        "id": "view-in-github",
        "colab_type": "text"
      },
      "source": [
        "<a href=\"https://colab.research.google.com/github/rpenal/Algoritmos2022-I/blob/main/Proyecto/ProyectoGrupo3.ipynb\" target=\"_parent\"><img src=\"https://colab.research.google.com/assets/colab-badge.svg\" alt=\"Open In Colab\"/></a>"
      ]
    },
    {
      "cell_type": "code",
      "execution_count": null,
      "metadata": {
        "id": "RURsA3aRu3od"
      },
      "outputs": [],
      "source": [
        "import os\n",
        "import json\n",
        "\n",
        "\n",
        "\"\"\"\n",
        "REMEMBER: Create folder \"data\" and then upload the json's (37 in total) to it\n",
        "\"\"\"\n",
        "ingredients = {}\n",
        "\n",
        "for file in os.listdir(\"data/\"):\n",
        "        # Opening JSON file\n",
        "        f = open(\"data/\" + file)\n",
        "          \n",
        "        # returns JSON object as \n",
        "        # a dictionary\n",
        "        data = json.load(f)\n",
        "        compounds = []\n",
        "        # Iterating through the json\n",
        "        # list\n",
        "        for i in data[\"molecules\"]:\n",
        "            compounds.append(i['common_name'])\n",
        "        ingredients[file.replace(\".json\",\"\")] = compounds\n",
        "        # Closing file\n",
        "        f.close()\n",
        "\n",
        "def intersection(lst1, lst2):\n",
        " \n",
        "    # Use of hybrid method\n",
        "    temp = set(lst2)\n",
        "    lst3 = [value for value in lst1 if value in temp]\n",
        "    return lst3\n",
        "\n",
        "similarities = {}\n",
        "\n",
        "for principal in ingredients:\n",
        "  similarities[principal] = {}\n",
        "  for pairing in ingredients:\n",
        "    if principal != pairing:\n",
        "      if pairing in similarities:\n",
        "        if principal in similarities[pairing]:\n",
        "          similarities[principal][pairing] = similarities[pairing][principal]\n",
        "          continue\n",
        "      intersect = intersection(ingredients[principal],ingredients[pairing])\n",
        "      simil = len(intersect)/max(len(ingredients[principal]),len(ingredients[pairing]))\n",
        "      similarities[principal][pairing] = simil\n",
        "\n",
        "similarities"
      ]
    },
    {
      "cell_type": "code",
      "source": [
        "mat = [[\"beef\",2],[2,3]]\n",
        "mat"
      ],
      "metadata": {
        "colab": {
          "base_uri": "https://localhost:8080/"
        },
        "id": "suKvHioCYWQF",
        "outputId": "9871a316-5f4c-4b4c-dce9-9425d3cfb958"
      },
      "execution_count": null,
      "outputs": [
        {
          "output_type": "execute_result",
          "data": {
            "text/plain": [
              "[[1, 2], [2, 3]]"
            ]
          },
          "metadata": {},
          "execution_count": 9
        }
      ]
    },
    {
      "cell_type": "code",
      "source": [
        "hamburgesa = []\n",
        "simTotal = 0\n",
        "##agregamos pan\n",
        "\n",
        "#agregamos la carne\n",
        "#simTotal+= peso(pan,carne)\n",
        "\n",
        "#agregamos tomate\n",
        "#for ingrediente in Hamburgesa\n",
        "# simTotal += peso(tomate,ingrediente)\n",
        "\n",
        "\n",
        "\"\"\"\n",
        "\n",
        "hamburgesa.append(nuevoIngrediente)\n",
        "for ingrediente in hamburgesa\n",
        "   if ingrediente != nuevoIngrediente:\n",
        "     simTotal += peso(nuevoIngrediente,ingrediente)\n",
        "\"\"\"\n"
      ],
      "metadata": {
        "colab": {
          "base_uri": "https://localhost:8080/"
        },
        "id": "jZahrZHNZPUK",
        "outputId": "2a758d8c-3f33-4a1a-e46f-58ae4222c2b4"
      },
      "execution_count": null,
      "outputs": [
        {
          "output_type": "execute_result",
          "data": {
            "text/plain": [
              "1192"
            ]
          },
          "metadata": {},
          "execution_count": 15
        }
      ]
    }
  ]
}