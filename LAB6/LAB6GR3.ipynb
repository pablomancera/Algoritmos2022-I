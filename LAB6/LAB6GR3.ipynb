{
  "nbformat": 4,
  "nbformat_minor": 0,
  "metadata": {
    "colab": {
      "name": "Copy of LAB6GR3.ipynb",
      "provenance": [],
      "collapsed_sections": [],
      "include_colab_link": true
    },
    "kernelspec": {
      "name": "python3",
      "display_name": "Python 3"
    },
    "language_info": {
      "name": "python"
    }
  },
  "cells": [
    {
      "cell_type": "markdown",
      "metadata": {
        "id": "view-in-github",
        "colab_type": "text"
      },
      "source": [
        "<a href=\"https://colab.research.google.com/github/rpenal/Algoritmos2022-I/blob/main/LAB6/LAB6GR3.ipynb\" target=\"_parent\"><img src=\"https://colab.research.google.com/assets/colab-badge.svg\" alt=\"Open In Colab\"/></a>"
      ]
    },
    {
      "cell_type": "markdown",
      "source": [
        "##Laboratorio 6\n",
        "#---------------------------\n",
        "- Alejandro Higuera\n",
        "- Pablo Mancera\n",
        "- Raúl Peña\n",
        "- Omar Sarmiento\n",
        "- Anderson Vargas\n"
      ],
      "metadata": {
        "id": "iQS679Ys3HMl"
      }
    },
    {
      "cell_type": "markdown",
      "metadata": {
        "id": "reYDmt-F7gkw"
      },
      "source": [
        "#1. Perceptron simple\n",
        "\n",
        "\n"
      ]
    },
    {
      "cell_type": "code",
      "metadata": {
        "id": "uNauKEQO5Pdp"
      },
      "source": [
        "import numpy as np \n",
        "import matplotlib.pyplot as plt\n",
        "import pandas as pd \n",
        "import random\n",
        "from google.colab import files\n",
        "pd.set_option('display.max_columns', 500)"
      ],
      "execution_count": 2,
      "outputs": []
    },
    {
      "cell_type": "markdown",
      "metadata": {
        "id": "a0bfDIBy7VPU"
      },
      "source": [
        "#2. Definición de la clase perceptron (Profesor)\n",
        "\n"
      ]
    },
    {
      "cell_type": "markdown",
      "source": [
        "Costo total del entrenamiento y la predicción $O(n\\_iter*lenX)$ o $O(n^2)$ en complejidad simplificada.\n"
      ],
      "metadata": {
        "id": "hp6F6lhu0VUT"
      }
    },
    {
      "cell_type": "code",
      "metadata": {
        "id": "AMCVlwNe5Zeo"
      },
      "source": [
        "#Costo total del entrenamiento+predicción O(n_iter*lenX)//O(n^2) en complejidad simplificada \n",
        "class Perceptron:\n",
        "    def __init__(self, eta=0.1, n_iter=10): #O(1)\n",
        "        self.eta = float(eta) #O(1)\n",
        "        self.n_iter = n_iter #O(1)\n",
        "\n",
        "    def train(self, X, y): #O(n_iter*lenX)\n",
        "        # inicializar los pesos en 0 \n",
        "        self.w = np.zeros(len(X[0])+1) #O(1)\n",
        "        #vector de errores acumulados\n",
        "        self.errors = [] #O(1)\n",
        "\n",
        "        #ciclo de entrenamiento\n",
        "        #Complejidad del búcle/ciclo O(n_iter*lenX)=O(n_iter)*O(lenX)\n",
        "        for i in range(self.n_iter): \n",
        "            errors = 0 #O(1)\n",
        "            #Complejidad del búcle O(lenX)\n",
        "            for x_i, target in zip(X,y): \n",
        "                #calcular el nuevo valor de los pesos\n",
        "                delta_w = np.array((target - self.predict(x_i)) * self.eta) #O(1)\n",
        "                #actualizar el valor de los pesos\n",
        "                self.w[1:] += delta_w * x_i #O(1)\n",
        "                #actualizar el valor del bias\n",
        "                self.w[0] += delta_w  #O(1)\n",
        "                if (delta_w!=0): #O(1)\n",
        "                    errors += 1 #O(1)\n",
        "            self.errors.append(errors) #o(1)\n",
        " \n",
        "\n",
        "    def predict(self, X): #O(lenX)\n",
        "        #combinacion lineal, w[0] = bias\n",
        "        v = np.dot( X, self.w [1:]) + self.w[0] #El producto punto cuesta O(lenX)\n",
        "        #funcion de activación \n",
        "        if v > 0.0: #O(1)\n",
        "            return 1 #O(1)\n",
        "        return 0 #O(1)"
      ],
      "execution_count": 3,
      "outputs": []
    },
    {
      "cell_type": "code",
      "source": [
        "#cargar los archivos de los dataset\n",
        "from sklearn.datasets import load_breast_cancer\n",
        "df=load_breast_cancer(as_frame=True)\n",
        "data = pd.DataFrame(df.frame)"
      ],
      "metadata": {
        "id": "NNf2mgH10tvR"
      },
      "execution_count": 4,
      "outputs": []
    },
    {
      "cell_type": "markdown",
      "metadata": {
        "id": "NNTsqos28KGF"
      },
      "source": [
        "# 3.Leer el datset Breast Cancer de Wisconsin\n",
        "\n",
        "El dataset cáncer es un conjunto de datos clásico y muy fácil para clasificación binaria. Contiene datos de imagenes digitalizadas de biopsias por aspiración con aguja fina de masas mamarias.\n",
        "\n",
        "\n",
        "Conformado por 2 clases, tumor maligno y tumor benigno. 212 datos de cáncer maligno y 357 de cáncer benigno.\n",
        "\n",
        "Mayor información del dataset se encuentra en  https://scikit-learn.org/stable/datasets/toy_dataset.html#breast-cancer-dataset\n"
      ]
    },
    {
      "cell_type": "markdown",
      "source": [
        "En el conjunto de datos 0 en el Target se identifica como Maligno y 1 como Benigno, ya estaban categorizadas desde su carga."
      ],
      "metadata": {
        "id": "YWhchmki_H9z"
      }
    },
    {
      "cell_type": "code",
      "source": [
        "#cargar los archivos del dataset\n",
        "from sklearn.datasets import load_breast_cancer\n",
        "df = load_breast_cancer(as_frame=True)\n",
        "df = pd.DataFrame(df.frame)\n",
        "print(\"Primeros valores del dataset\")\n",
        "display(df.head(100))"
      ],
      "metadata": {
        "colab": {
          "base_uri": "https://localhost:8080/",
          "height": 540
        },
        "id": "Q2Wvqtr82dW3",
        "outputId": "2783bc6b-c3e5-4c93-bb0f-469118cca5b6"
      },
      "execution_count": 5,
      "outputs": [
        {
          "output_type": "stream",
          "name": "stdout",
          "text": [
            "Primeros valores del dataset\n"
          ]
        },
        {
          "output_type": "display_data",
          "data": {
            "text/plain": [
              "    mean radius  mean texture  mean perimeter  mean area  mean smoothness  \\\n",
              "0        17.990         10.38          122.80     1001.0          0.11840   \n",
              "1        20.570         17.77          132.90     1326.0          0.08474   \n",
              "2        19.690         21.25          130.00     1203.0          0.10960   \n",
              "3        11.420         20.38           77.58      386.1          0.14250   \n",
              "4        20.290         14.34          135.10     1297.0          0.10030   \n",
              "..          ...           ...             ...        ...              ...   \n",
              "95       20.260         23.03          132.40     1264.0          0.09078   \n",
              "96       12.180         17.84           77.79      451.1          0.10450   \n",
              "97        9.787         19.94           62.11      294.5          0.10240   \n",
              "98       11.600         12.84           74.34      412.6          0.08983   \n",
              "99       14.420         19.77           94.48      642.5          0.09752   \n",
              "\n",
              "    mean compactness  mean concavity  mean concave points  mean symmetry  \\\n",
              "0            0.27760        0.300100             0.147100         0.2419   \n",
              "1            0.07864        0.086900             0.070170         0.1812   \n",
              "2            0.15990        0.197400             0.127900         0.2069   \n",
              "3            0.28390        0.241400             0.105200         0.2597   \n",
              "4            0.13280        0.198000             0.104300         0.1809   \n",
              "..               ...             ...                  ...            ...   \n",
              "95           0.13130        0.146500             0.086830         0.2095   \n",
              "96           0.07057        0.024900             0.029410         0.1900   \n",
              "97           0.05301        0.006829             0.007937         0.1350   \n",
              "98           0.07525        0.041960             0.033500         0.1620   \n",
              "99           0.11410        0.093880             0.058390         0.1879   \n",
              "\n",
              "    mean fractal dimension  radius error  texture error  perimeter error  \\\n",
              "0                  0.07871        1.0950         0.9053            8.589   \n",
              "1                  0.05667        0.5435         0.7339            3.398   \n",
              "2                  0.05999        0.7456         0.7869            4.585   \n",
              "3                  0.09744        0.4956         1.1560            3.445   \n",
              "4                  0.05883        0.7572         0.7813            5.438   \n",
              "..                     ...           ...            ...              ...   \n",
              "95                 0.05649        0.7576         1.5090            4.554   \n",
              "96                 0.06635        0.3661         1.5110            2.410   \n",
              "97                 0.06890        0.3350         2.0430            2.132   \n",
              "98                 0.06582        0.2315         0.5391            1.475   \n",
              "99                 0.06390        0.2895         1.8510            2.376   \n",
              "\n",
              "    area error  smoothness error  compactness error  concavity error  \\\n",
              "0       153.40          0.006399            0.04904         0.053730   \n",
              "1        74.08          0.005225            0.01308         0.018600   \n",
              "2        94.03          0.006150            0.04006         0.038320   \n",
              "3        27.23          0.009110            0.07458         0.056610   \n",
              "4        94.44          0.011490            0.02461         0.056880   \n",
              "..         ...               ...                ...              ...   \n",
              "95       87.87          0.006016            0.03482         0.042320   \n",
              "96       24.44          0.005433            0.01179         0.011310   \n",
              "97       20.05          0.011130            0.01463         0.005308   \n",
              "98       15.75          0.006153            0.01330         0.016930   \n",
              "99       26.85          0.008005            0.02895         0.033210   \n",
              "\n",
              "    concave points error  symmetry error  fractal dimension error  \\\n",
              "0               0.015870         0.03003                 0.006193   \n",
              "1               0.013400         0.01389                 0.003532   \n",
              "2               0.020580         0.02250                 0.004571   \n",
              "3               0.018670         0.05963                 0.009208   \n",
              "4               0.018850         0.01756                 0.005115   \n",
              "..                   ...             ...                      ...   \n",
              "95              0.012690         0.02657                 0.004411   \n",
              "96              0.015190         0.02220                 0.003408   \n",
              "97              0.005250         0.01801                 0.005667   \n",
              "98              0.006884         0.01651                 0.002551   \n",
              "99              0.014240         0.01462                 0.004452   \n",
              "\n",
              "    worst radius  worst texture  worst perimeter  worst area  \\\n",
              "0          25.38          17.33           184.60      2019.0   \n",
              "1          24.99          23.41           158.80      1956.0   \n",
              "2          23.57          25.53           152.50      1709.0   \n",
              "3          14.91          26.50            98.87       567.7   \n",
              "4          22.54          16.67           152.20      1575.0   \n",
              "..           ...            ...              ...         ...   \n",
              "95         24.22          31.59           156.10      1750.0   \n",
              "96         12.83          20.92            82.14       495.2   \n",
              "97         10.92          26.29            68.81       366.1   \n",
              "98         13.06          17.16            82.96       512.5   \n",
              "99         16.33          30.86           109.50       826.4   \n",
              "\n",
              "    worst smoothness  worst compactness  worst concavity  \\\n",
              "0             0.1622            0.66560          0.71190   \n",
              "1             0.1238            0.18660          0.24160   \n",
              "2             0.1444            0.42450          0.45040   \n",
              "3             0.2098            0.86630          0.68690   \n",
              "4             0.1374            0.20500          0.40000   \n",
              "..               ...                ...              ...   \n",
              "95            0.1190            0.35390          0.40980   \n",
              "96            0.1140            0.09358          0.04980   \n",
              "97            0.1316            0.09473          0.02049   \n",
              "98            0.1431            0.18510          0.19220   \n",
              "99            0.1431            0.30260          0.31940   \n",
              "\n",
              "    worst concave points  worst symmetry  worst fractal dimension  target  \n",
              "0                0.26540          0.4601                  0.11890       0  \n",
              "1                0.18600          0.2750                  0.08902       0  \n",
              "2                0.24300          0.3613                  0.08758       0  \n",
              "3                0.25750          0.6638                  0.17300       0  \n",
              "4                0.16250          0.2364                  0.07678       0  \n",
              "..                   ...             ...                      ...     ...  \n",
              "95               0.15730          0.3689                  0.08368       0  \n",
              "96               0.05882          0.2227                  0.07376       1  \n",
              "97               0.02381          0.1934                  0.08988       1  \n",
              "98               0.08449          0.2772                  0.08756       1  \n",
              "99               0.15650          0.2718                  0.09353       0  \n",
              "\n",
              "[100 rows x 31 columns]"
            ],
            "text/html": [
              "\n",
              "  <div id=\"df-0f271922-5fce-4db0-a1a9-31cfccd96656\">\n",
              "    <div class=\"colab-df-container\">\n",
              "      <div>\n",
              "<style scoped>\n",
              "    .dataframe tbody tr th:only-of-type {\n",
              "        vertical-align: middle;\n",
              "    }\n",
              "\n",
              "    .dataframe tbody tr th {\n",
              "        vertical-align: top;\n",
              "    }\n",
              "\n",
              "    .dataframe thead th {\n",
              "        text-align: right;\n",
              "    }\n",
              "</style>\n",
              "<table border=\"1\" class=\"dataframe\">\n",
              "  <thead>\n",
              "    <tr style=\"text-align: right;\">\n",
              "      <th></th>\n",
              "      <th>mean radius</th>\n",
              "      <th>mean texture</th>\n",
              "      <th>mean perimeter</th>\n",
              "      <th>mean area</th>\n",
              "      <th>mean smoothness</th>\n",
              "      <th>mean compactness</th>\n",
              "      <th>mean concavity</th>\n",
              "      <th>mean concave points</th>\n",
              "      <th>mean symmetry</th>\n",
              "      <th>mean fractal dimension</th>\n",
              "      <th>radius error</th>\n",
              "      <th>texture error</th>\n",
              "      <th>perimeter error</th>\n",
              "      <th>area error</th>\n",
              "      <th>smoothness error</th>\n",
              "      <th>compactness error</th>\n",
              "      <th>concavity error</th>\n",
              "      <th>concave points error</th>\n",
              "      <th>symmetry error</th>\n",
              "      <th>fractal dimension error</th>\n",
              "      <th>worst radius</th>\n",
              "      <th>worst texture</th>\n",
              "      <th>worst perimeter</th>\n",
              "      <th>worst area</th>\n",
              "      <th>worst smoothness</th>\n",
              "      <th>worst compactness</th>\n",
              "      <th>worst concavity</th>\n",
              "      <th>worst concave points</th>\n",
              "      <th>worst symmetry</th>\n",
              "      <th>worst fractal dimension</th>\n",
              "      <th>target</th>\n",
              "    </tr>\n",
              "  </thead>\n",
              "  <tbody>\n",
              "    <tr>\n",
              "      <th>0</th>\n",
              "      <td>17.990</td>\n",
              "      <td>10.38</td>\n",
              "      <td>122.80</td>\n",
              "      <td>1001.0</td>\n",
              "      <td>0.11840</td>\n",
              "      <td>0.27760</td>\n",
              "      <td>0.300100</td>\n",
              "      <td>0.147100</td>\n",
              "      <td>0.2419</td>\n",
              "      <td>0.07871</td>\n",
              "      <td>1.0950</td>\n",
              "      <td>0.9053</td>\n",
              "      <td>8.589</td>\n",
              "      <td>153.40</td>\n",
              "      <td>0.006399</td>\n",
              "      <td>0.04904</td>\n",
              "      <td>0.053730</td>\n",
              "      <td>0.015870</td>\n",
              "      <td>0.03003</td>\n",
              "      <td>0.006193</td>\n",
              "      <td>25.38</td>\n",
              "      <td>17.33</td>\n",
              "      <td>184.60</td>\n",
              "      <td>2019.0</td>\n",
              "      <td>0.1622</td>\n",
              "      <td>0.66560</td>\n",
              "      <td>0.71190</td>\n",
              "      <td>0.26540</td>\n",
              "      <td>0.4601</td>\n",
              "      <td>0.11890</td>\n",
              "      <td>0</td>\n",
              "    </tr>\n",
              "    <tr>\n",
              "      <th>1</th>\n",
              "      <td>20.570</td>\n",
              "      <td>17.77</td>\n",
              "      <td>132.90</td>\n",
              "      <td>1326.0</td>\n",
              "      <td>0.08474</td>\n",
              "      <td>0.07864</td>\n",
              "      <td>0.086900</td>\n",
              "      <td>0.070170</td>\n",
              "      <td>0.1812</td>\n",
              "      <td>0.05667</td>\n",
              "      <td>0.5435</td>\n",
              "      <td>0.7339</td>\n",
              "      <td>3.398</td>\n",
              "      <td>74.08</td>\n",
              "      <td>0.005225</td>\n",
              "      <td>0.01308</td>\n",
              "      <td>0.018600</td>\n",
              "      <td>0.013400</td>\n",
              "      <td>0.01389</td>\n",
              "      <td>0.003532</td>\n",
              "      <td>24.99</td>\n",
              "      <td>23.41</td>\n",
              "      <td>158.80</td>\n",
              "      <td>1956.0</td>\n",
              "      <td>0.1238</td>\n",
              "      <td>0.18660</td>\n",
              "      <td>0.24160</td>\n",
              "      <td>0.18600</td>\n",
              "      <td>0.2750</td>\n",
              "      <td>0.08902</td>\n",
              "      <td>0</td>\n",
              "    </tr>\n",
              "    <tr>\n",
              "      <th>2</th>\n",
              "      <td>19.690</td>\n",
              "      <td>21.25</td>\n",
              "      <td>130.00</td>\n",
              "      <td>1203.0</td>\n",
              "      <td>0.10960</td>\n",
              "      <td>0.15990</td>\n",
              "      <td>0.197400</td>\n",
              "      <td>0.127900</td>\n",
              "      <td>0.2069</td>\n",
              "      <td>0.05999</td>\n",
              "      <td>0.7456</td>\n",
              "      <td>0.7869</td>\n",
              "      <td>4.585</td>\n",
              "      <td>94.03</td>\n",
              "      <td>0.006150</td>\n",
              "      <td>0.04006</td>\n",
              "      <td>0.038320</td>\n",
              "      <td>0.020580</td>\n",
              "      <td>0.02250</td>\n",
              "      <td>0.004571</td>\n",
              "      <td>23.57</td>\n",
              "      <td>25.53</td>\n",
              "      <td>152.50</td>\n",
              "      <td>1709.0</td>\n",
              "      <td>0.1444</td>\n",
              "      <td>0.42450</td>\n",
              "      <td>0.45040</td>\n",
              "      <td>0.24300</td>\n",
              "      <td>0.3613</td>\n",
              "      <td>0.08758</td>\n",
              "      <td>0</td>\n",
              "    </tr>\n",
              "    <tr>\n",
              "      <th>3</th>\n",
              "      <td>11.420</td>\n",
              "      <td>20.38</td>\n",
              "      <td>77.58</td>\n",
              "      <td>386.1</td>\n",
              "      <td>0.14250</td>\n",
              "      <td>0.28390</td>\n",
              "      <td>0.241400</td>\n",
              "      <td>0.105200</td>\n",
              "      <td>0.2597</td>\n",
              "      <td>0.09744</td>\n",
              "      <td>0.4956</td>\n",
              "      <td>1.1560</td>\n",
              "      <td>3.445</td>\n",
              "      <td>27.23</td>\n",
              "      <td>0.009110</td>\n",
              "      <td>0.07458</td>\n",
              "      <td>0.056610</td>\n",
              "      <td>0.018670</td>\n",
              "      <td>0.05963</td>\n",
              "      <td>0.009208</td>\n",
              "      <td>14.91</td>\n",
              "      <td>26.50</td>\n",
              "      <td>98.87</td>\n",
              "      <td>567.7</td>\n",
              "      <td>0.2098</td>\n",
              "      <td>0.86630</td>\n",
              "      <td>0.68690</td>\n",
              "      <td>0.25750</td>\n",
              "      <td>0.6638</td>\n",
              "      <td>0.17300</td>\n",
              "      <td>0</td>\n",
              "    </tr>\n",
              "    <tr>\n",
              "      <th>4</th>\n",
              "      <td>20.290</td>\n",
              "      <td>14.34</td>\n",
              "      <td>135.10</td>\n",
              "      <td>1297.0</td>\n",
              "      <td>0.10030</td>\n",
              "      <td>0.13280</td>\n",
              "      <td>0.198000</td>\n",
              "      <td>0.104300</td>\n",
              "      <td>0.1809</td>\n",
              "      <td>0.05883</td>\n",
              "      <td>0.7572</td>\n",
              "      <td>0.7813</td>\n",
              "      <td>5.438</td>\n",
              "      <td>94.44</td>\n",
              "      <td>0.011490</td>\n",
              "      <td>0.02461</td>\n",
              "      <td>0.056880</td>\n",
              "      <td>0.018850</td>\n",
              "      <td>0.01756</td>\n",
              "      <td>0.005115</td>\n",
              "      <td>22.54</td>\n",
              "      <td>16.67</td>\n",
              "      <td>152.20</td>\n",
              "      <td>1575.0</td>\n",
              "      <td>0.1374</td>\n",
              "      <td>0.20500</td>\n",
              "      <td>0.40000</td>\n",
              "      <td>0.16250</td>\n",
              "      <td>0.2364</td>\n",
              "      <td>0.07678</td>\n",
              "      <td>0</td>\n",
              "    </tr>\n",
              "    <tr>\n",
              "      <th>...</th>\n",
              "      <td>...</td>\n",
              "      <td>...</td>\n",
              "      <td>...</td>\n",
              "      <td>...</td>\n",
              "      <td>...</td>\n",
              "      <td>...</td>\n",
              "      <td>...</td>\n",
              "      <td>...</td>\n",
              "      <td>...</td>\n",
              "      <td>...</td>\n",
              "      <td>...</td>\n",
              "      <td>...</td>\n",
              "      <td>...</td>\n",
              "      <td>...</td>\n",
              "      <td>...</td>\n",
              "      <td>...</td>\n",
              "      <td>...</td>\n",
              "      <td>...</td>\n",
              "      <td>...</td>\n",
              "      <td>...</td>\n",
              "      <td>...</td>\n",
              "      <td>...</td>\n",
              "      <td>...</td>\n",
              "      <td>...</td>\n",
              "      <td>...</td>\n",
              "      <td>...</td>\n",
              "      <td>...</td>\n",
              "      <td>...</td>\n",
              "      <td>...</td>\n",
              "      <td>...</td>\n",
              "      <td>...</td>\n",
              "    </tr>\n",
              "    <tr>\n",
              "      <th>95</th>\n",
              "      <td>20.260</td>\n",
              "      <td>23.03</td>\n",
              "      <td>132.40</td>\n",
              "      <td>1264.0</td>\n",
              "      <td>0.09078</td>\n",
              "      <td>0.13130</td>\n",
              "      <td>0.146500</td>\n",
              "      <td>0.086830</td>\n",
              "      <td>0.2095</td>\n",
              "      <td>0.05649</td>\n",
              "      <td>0.7576</td>\n",
              "      <td>1.5090</td>\n",
              "      <td>4.554</td>\n",
              "      <td>87.87</td>\n",
              "      <td>0.006016</td>\n",
              "      <td>0.03482</td>\n",
              "      <td>0.042320</td>\n",
              "      <td>0.012690</td>\n",
              "      <td>0.02657</td>\n",
              "      <td>0.004411</td>\n",
              "      <td>24.22</td>\n",
              "      <td>31.59</td>\n",
              "      <td>156.10</td>\n",
              "      <td>1750.0</td>\n",
              "      <td>0.1190</td>\n",
              "      <td>0.35390</td>\n",
              "      <td>0.40980</td>\n",
              "      <td>0.15730</td>\n",
              "      <td>0.3689</td>\n",
              "      <td>0.08368</td>\n",
              "      <td>0</td>\n",
              "    </tr>\n",
              "    <tr>\n",
              "      <th>96</th>\n",
              "      <td>12.180</td>\n",
              "      <td>17.84</td>\n",
              "      <td>77.79</td>\n",
              "      <td>451.1</td>\n",
              "      <td>0.10450</td>\n",
              "      <td>0.07057</td>\n",
              "      <td>0.024900</td>\n",
              "      <td>0.029410</td>\n",
              "      <td>0.1900</td>\n",
              "      <td>0.06635</td>\n",
              "      <td>0.3661</td>\n",
              "      <td>1.5110</td>\n",
              "      <td>2.410</td>\n",
              "      <td>24.44</td>\n",
              "      <td>0.005433</td>\n",
              "      <td>0.01179</td>\n",
              "      <td>0.011310</td>\n",
              "      <td>0.015190</td>\n",
              "      <td>0.02220</td>\n",
              "      <td>0.003408</td>\n",
              "      <td>12.83</td>\n",
              "      <td>20.92</td>\n",
              "      <td>82.14</td>\n",
              "      <td>495.2</td>\n",
              "      <td>0.1140</td>\n",
              "      <td>0.09358</td>\n",
              "      <td>0.04980</td>\n",
              "      <td>0.05882</td>\n",
              "      <td>0.2227</td>\n",
              "      <td>0.07376</td>\n",
              "      <td>1</td>\n",
              "    </tr>\n",
              "    <tr>\n",
              "      <th>97</th>\n",
              "      <td>9.787</td>\n",
              "      <td>19.94</td>\n",
              "      <td>62.11</td>\n",
              "      <td>294.5</td>\n",
              "      <td>0.10240</td>\n",
              "      <td>0.05301</td>\n",
              "      <td>0.006829</td>\n",
              "      <td>0.007937</td>\n",
              "      <td>0.1350</td>\n",
              "      <td>0.06890</td>\n",
              "      <td>0.3350</td>\n",
              "      <td>2.0430</td>\n",
              "      <td>2.132</td>\n",
              "      <td>20.05</td>\n",
              "      <td>0.011130</td>\n",
              "      <td>0.01463</td>\n",
              "      <td>0.005308</td>\n",
              "      <td>0.005250</td>\n",
              "      <td>0.01801</td>\n",
              "      <td>0.005667</td>\n",
              "      <td>10.92</td>\n",
              "      <td>26.29</td>\n",
              "      <td>68.81</td>\n",
              "      <td>366.1</td>\n",
              "      <td>0.1316</td>\n",
              "      <td>0.09473</td>\n",
              "      <td>0.02049</td>\n",
              "      <td>0.02381</td>\n",
              "      <td>0.1934</td>\n",
              "      <td>0.08988</td>\n",
              "      <td>1</td>\n",
              "    </tr>\n",
              "    <tr>\n",
              "      <th>98</th>\n",
              "      <td>11.600</td>\n",
              "      <td>12.84</td>\n",
              "      <td>74.34</td>\n",
              "      <td>412.6</td>\n",
              "      <td>0.08983</td>\n",
              "      <td>0.07525</td>\n",
              "      <td>0.041960</td>\n",
              "      <td>0.033500</td>\n",
              "      <td>0.1620</td>\n",
              "      <td>0.06582</td>\n",
              "      <td>0.2315</td>\n",
              "      <td>0.5391</td>\n",
              "      <td>1.475</td>\n",
              "      <td>15.75</td>\n",
              "      <td>0.006153</td>\n",
              "      <td>0.01330</td>\n",
              "      <td>0.016930</td>\n",
              "      <td>0.006884</td>\n",
              "      <td>0.01651</td>\n",
              "      <td>0.002551</td>\n",
              "      <td>13.06</td>\n",
              "      <td>17.16</td>\n",
              "      <td>82.96</td>\n",
              "      <td>512.5</td>\n",
              "      <td>0.1431</td>\n",
              "      <td>0.18510</td>\n",
              "      <td>0.19220</td>\n",
              "      <td>0.08449</td>\n",
              "      <td>0.2772</td>\n",
              "      <td>0.08756</td>\n",
              "      <td>1</td>\n",
              "    </tr>\n",
              "    <tr>\n",
              "      <th>99</th>\n",
              "      <td>14.420</td>\n",
              "      <td>19.77</td>\n",
              "      <td>94.48</td>\n",
              "      <td>642.5</td>\n",
              "      <td>0.09752</td>\n",
              "      <td>0.11410</td>\n",
              "      <td>0.093880</td>\n",
              "      <td>0.058390</td>\n",
              "      <td>0.1879</td>\n",
              "      <td>0.06390</td>\n",
              "      <td>0.2895</td>\n",
              "      <td>1.8510</td>\n",
              "      <td>2.376</td>\n",
              "      <td>26.85</td>\n",
              "      <td>0.008005</td>\n",
              "      <td>0.02895</td>\n",
              "      <td>0.033210</td>\n",
              "      <td>0.014240</td>\n",
              "      <td>0.01462</td>\n",
              "      <td>0.004452</td>\n",
              "      <td>16.33</td>\n",
              "      <td>30.86</td>\n",
              "      <td>109.50</td>\n",
              "      <td>826.4</td>\n",
              "      <td>0.1431</td>\n",
              "      <td>0.30260</td>\n",
              "      <td>0.31940</td>\n",
              "      <td>0.15650</td>\n",
              "      <td>0.2718</td>\n",
              "      <td>0.09353</td>\n",
              "      <td>0</td>\n",
              "    </tr>\n",
              "  </tbody>\n",
              "</table>\n",
              "<p>100 rows × 31 columns</p>\n",
              "</div>\n",
              "      <button class=\"colab-df-convert\" onclick=\"convertToInteractive('df-0f271922-5fce-4db0-a1a9-31cfccd96656')\"\n",
              "              title=\"Convert this dataframe to an interactive table.\"\n",
              "              style=\"display:none;\">\n",
              "        \n",
              "  <svg xmlns=\"http://www.w3.org/2000/svg\" height=\"24px\"viewBox=\"0 0 24 24\"\n",
              "       width=\"24px\">\n",
              "    <path d=\"M0 0h24v24H0V0z\" fill=\"none\"/>\n",
              "    <path d=\"M18.56 5.44l.94 2.06.94-2.06 2.06-.94-2.06-.94-.94-2.06-.94 2.06-2.06.94zm-11 1L8.5 8.5l.94-2.06 2.06-.94-2.06-.94L8.5 2.5l-.94 2.06-2.06.94zm10 10l.94 2.06.94-2.06 2.06-.94-2.06-.94-.94-2.06-.94 2.06-2.06.94z\"/><path d=\"M17.41 7.96l-1.37-1.37c-.4-.4-.92-.59-1.43-.59-.52 0-1.04.2-1.43.59L10.3 9.45l-7.72 7.72c-.78.78-.78 2.05 0 2.83L4 21.41c.39.39.9.59 1.41.59.51 0 1.02-.2 1.41-.59l7.78-7.78 2.81-2.81c.8-.78.8-2.07 0-2.86zM5.41 20L4 18.59l7.72-7.72 1.47 1.35L5.41 20z\"/>\n",
              "  </svg>\n",
              "      </button>\n",
              "      \n",
              "  <style>\n",
              "    .colab-df-container {\n",
              "      display:flex;\n",
              "      flex-wrap:wrap;\n",
              "      gap: 12px;\n",
              "    }\n",
              "\n",
              "    .colab-df-convert {\n",
              "      background-color: #E8F0FE;\n",
              "      border: none;\n",
              "      border-radius: 50%;\n",
              "      cursor: pointer;\n",
              "      display: none;\n",
              "      fill: #1967D2;\n",
              "      height: 32px;\n",
              "      padding: 0 0 0 0;\n",
              "      width: 32px;\n",
              "    }\n",
              "\n",
              "    .colab-df-convert:hover {\n",
              "      background-color: #E2EBFA;\n",
              "      box-shadow: 0px 1px 2px rgba(60, 64, 67, 0.3), 0px 1px 3px 1px rgba(60, 64, 67, 0.15);\n",
              "      fill: #174EA6;\n",
              "    }\n",
              "\n",
              "    [theme=dark] .colab-df-convert {\n",
              "      background-color: #3B4455;\n",
              "      fill: #D2E3FC;\n",
              "    }\n",
              "\n",
              "    [theme=dark] .colab-df-convert:hover {\n",
              "      background-color: #434B5C;\n",
              "      box-shadow: 0px 1px 3px 1px rgba(0, 0, 0, 0.15);\n",
              "      filter: drop-shadow(0px 1px 2px rgba(0, 0, 0, 0.3));\n",
              "      fill: #FFFFFF;\n",
              "    }\n",
              "  </style>\n",
              "\n",
              "      <script>\n",
              "        const buttonEl =\n",
              "          document.querySelector('#df-0f271922-5fce-4db0-a1a9-31cfccd96656 button.colab-df-convert');\n",
              "        buttonEl.style.display =\n",
              "          google.colab.kernel.accessAllowed ? 'block' : 'none';\n",
              "\n",
              "        async function convertToInteractive(key) {\n",
              "          const element = document.querySelector('#df-0f271922-5fce-4db0-a1a9-31cfccd96656');\n",
              "          const dataTable =\n",
              "            await google.colab.kernel.invokeFunction('convertToInteractive',\n",
              "                                                     [key], {});\n",
              "          if (!dataTable) return;\n",
              "\n",
              "          const docLinkHtml = 'Like what you see? Visit the ' +\n",
              "            '<a target=\"_blank\" href=https://colab.research.google.com/notebooks/data_table.ipynb>data table notebook</a>'\n",
              "            + ' to learn more about interactive tables.';\n",
              "          element.innerHTML = '';\n",
              "          dataTable['output_type'] = 'display_data';\n",
              "          await google.colab.output.renderOutput(dataTable, element);\n",
              "          const docLink = document.createElement('div');\n",
              "          docLink.innerHTML = docLinkHtml;\n",
              "          element.appendChild(docLink);\n",
              "        }\n",
              "      </script>\n",
              "    </div>\n",
              "  </div>\n",
              "  "
            ]
          },
          "metadata": {}
        }
      ]
    },
    {
      "cell_type": "code",
      "source": [
        "#Almacenaremos en X como Numpy Array todas las features del dataset\n",
        "X = np.array(df.drop('target',axis=1), float)\n",
        "#Almacenaremos en Y como Numpy Array nuestra columna target\n",
        "Y = np.array(df[\"target\"])"
      ],
      "metadata": {
        "id": "IFvO6kNL4prr"
      },
      "execution_count": 6,
      "outputs": []
    },
    {
      "cell_type": "markdown",
      "source": [
        "# 4. Selección de datos"
      ],
      "metadata": {
        "id": "6tyf1Epv241d"
      }
    },
    {
      "cell_type": "markdown",
      "source": [
        "## Analizaremos los resultados para 3 escenarios de conjuntos de features:\n",
        "\n",
        "a) Conjunto $X_1$, features \"Mean Smothness\" y \"Worst Concave Points\". **Separable Lineal**\n",
        "\n",
        "b) Conjunto $X_2$, features \"Mean Simmetry\" y \"Mean Fractal Dimension\". **No separable lineal**\n",
        "\n",
        "c) Conjunto $X$, todas las features"
      ],
      "metadata": {
        "id": "9Wo6M8nv286t"
      }
    },
    {
      "cell_type": "markdown",
      "source": [
        "### **4.1. Selección de las 2 mejores features y que además son más separables linealmente**"
      ],
      "metadata": {
        "id": "tacN6aOC3Qwy"
      }
    },
    {
      "cell_type": "markdown",
      "source": [
        "Con ayuda de Scikit-Learn y el módulo SelectPercentile y la función de Score ANOVA-F reduciremos la dimensionalidad a los 2 mejores features, para poder ver la separabilidad de los datos de manera gráfica."
      ],
      "metadata": {
        "id": "yrkWsPG93bmJ"
      }
    },
    {
      "cell_type": "code",
      "source": [
        "from sklearn.feature_selection import SelectKBest, mutual_info_classif\n",
        "# Conjunto de datos X_1 con las mejores features de acuerdo con el algoritmo de reducción de dimensionalidad de Scikit\n",
        "X_1 = SelectKBest(mutual_info_classif, k=2).fit_transform(X,Y)\n",
        "X_1"
      ],
      "metadata": {
        "colab": {
          "base_uri": "https://localhost:8080/"
        },
        "id": "iMc4zJX23Pow",
        "outputId": "aca46012-dda6-4b0e-9e4e-b44a632a6aef"
      },
      "execution_count": 7,
      "outputs": [
        {
          "output_type": "execute_result",
          "data": {
            "text/plain": [
              "array([[ 184.6 , 2019.  ],\n",
              "       [ 158.8 , 1956.  ],\n",
              "       [ 152.5 , 1709.  ],\n",
              "       ...,\n",
              "       [ 126.7 , 1124.  ],\n",
              "       [ 184.6 , 1821.  ],\n",
              "       [  59.16,  268.6 ]])"
            ]
          },
          "metadata": {},
          "execution_count": 7
        }
      ]
    },
    {
      "cell_type": "markdown",
      "source": [
        "En este caso, como podemos observar las 2 features más importantes según el resultado del algoritmo son \"Worst perimeter\" y \"Worst area\"."
      ],
      "metadata": {
        "id": "8KJ270_16GMI"
      }
    },
    {
      "cell_type": "markdown",
      "source": [
        "A continuación crearemos una máscara booleana para filtrar los datos según la malignidad del tumor y graficaremos para ver la separabilidad de los datos."
      ],
      "metadata": {
        "id": "h0bLdoQE6ibF"
      }
    },
    {
      "cell_type": "code",
      "source": [
        "# Datos con tumor benigno\n",
        "wo_cancer = X_1[Y==1][0:50]\n",
        "# Datos con tumor maligno\n",
        "wt_cancer = X_1[Y==0][50:100]\n",
        "\n",
        "#Graficamos el conjunto de datos\n",
        "plt.xlabel(\"Worst perimeter\")\n",
        "plt.ylabel(\"Worst area\")\n",
        "plt.scatter(wo_cancer[:, 0], wo_cancer[:, 1], color='green', marker='+',label=\"Benigno\")\n",
        "plt.scatter(wt_cancer[:, 0], wt_cancer[:, 1], color='blue', marker='x',label=\"Maligno\")\n",
        "plt.legend(loc='upper left')\n",
        "plt.show()"
      ],
      "metadata": {
        "colab": {
          "base_uri": "https://localhost:8080/",
          "height": 279
        },
        "id": "Aa4-u3tJ6Xlx",
        "outputId": "7c4ff68e-3698-43dd-9eec-57cf09293877"
      },
      "execution_count": 21,
      "outputs": [
        {
          "output_type": "display_data",
          "data": {
            "text/plain": [
              "<Figure size 432x288 with 1 Axes>"
            ],
            "image/png": "[encoded data removed]"
          },
          "metadata": {
            "needs_background": "light"
          }
        }
      ]
    },
    {
      "cell_type": "markdown",
      "source": [
        "Por lo tanto el conjunto de datos $X_1$ con las features features \"Mean Smothness\" y \"Worst Concave Points\", muestra indicios de ser separable linealmente."
      ],
      "metadata": {
        "id": "yPrgWScI8_H7"
      }
    },
    {
      "cell_type": "markdown",
      "source": [
        "### **4.2. Dos features que bajo la exploración de los datos encontramos como las menos separables linealmente\"**"
      ],
      "metadata": {
        "id": "K587dlAE9iaX"
      }
    },
    {
      "cell_type": "markdown",
      "source": [
        "Después de realizar los gráficos de correlación de varios conjuntos posibles de 2 features, notamos que \"Mean Simmetry\" y \"Mean Fractal Dimension\" eran las features que menos mostraban ser separables linealmente."
      ],
      "metadata": {
        "id": "4Y99JAih9sNh"
      }
    },
    {
      "cell_type": "code",
      "source": [
        "#Seleccionamos del conjunto de datos unicamente las features Mean Simmetry y Mean Fractal\n",
        "X_2 = X[:,[8,9]]\n",
        "\n",
        "# Datos con tumor benigno\n",
        "wo_cancer = X_2[Y==1][0:100]\n",
        "# Datos con tumor maligno\n",
        "wt_cancer = X_2[Y==0][50:100]\n",
        "\n",
        "plt.xlabel(\"Mean Simmetry\")\n",
        "plt.ylabel(\"Mean Fractal Dimension\")\n",
        "plt.scatter(wo_cancer[:, 0], wo_cancer[:, 1], color='green', marker='+',label=\"Benigno\")\n",
        "plt.scatter(wt_cancer[:, 0], wt_cancer[:, 1], color='blue', marker='x',label=\"Maligno\")\n",
        "plt.legend(loc='upper left')\n",
        "plt.show()"
      ],
      "metadata": {
        "colab": {
          "base_uri": "https://localhost:8080/",
          "height": 279
        },
        "id": "jGbDBOMm9-uD",
        "outputId": "aa893bc6-ebf6-4cd8-b881-92619be72dc7"
      },
      "execution_count": 22,
      "outputs": [
        {
          "output_type": "display_data",
          "data": {
            "text/plain": [
              "<Figure size 432x288 with 1 Axes>"
            ],
            "image/png": "[encoded data removed]"
          },
          "metadata": {
            "needs_background": "light"
          }
        }
      ]
    },
    {
      "cell_type": "markdown",
      "source": [
        "Por lo tanto el conjunto de datos $X_2$ con las features features \"Mean Simmetry\" y \"Mean Fractal Dimension\", no muestra indicios de ser separable linealmente."
      ],
      "metadata": {
        "id": "jPFvdli5_xWC"
      }
    },
    {
      "cell_type": "markdown",
      "source": [
        "# Entrenamiento y prueba del perceptron\n",
        "\n",
        "Se toma el 80% del dataset para entrenar el perceptron.\n"
      ],
      "metadata": {
        "id": "69T8GIOZAOQD"
      }
    },
    {
      "cell_type": "code",
      "source": [
        "def entrenar_perceptron(X,Y,n_iter):\n",
        "  tamano = X.shape[0]\n",
        "\n",
        "  fortyper = int(tamano * .4)\n",
        "  fiftyper = int(tamano * .5)\n",
        "  ninetyper = int(tamano* .9)\n",
        "\n",
        "  datapractice = np.concatenate([X[:fortyper,:],X[fiftyper:ninetyper,:]],axis=0)\n",
        "  resultspractice = np.concatenate([Y[:fortyper],Y[fiftyper:ninetyper]],axis=0)\n",
        "\n",
        "  ##ENTRENAMIENTO##\n",
        "  #tomar el 80 % del dataset para el entrenamiento\n",
        "  X_training = datapractice\n",
        "  y_training = resultspractice\n",
        "  #entrenar el perceptron\n",
        "  perceptron =  Perceptron(2,n_iter)\n",
        "  perceptron.train(X_training, y_training)\n",
        "\n",
        "  plt.plot(range(1, len(perceptron.errors) + 1), perceptron.errors, marker='o')\n",
        "  plt.xlabel('Iteración')\n",
        "  plt.ylabel('Número de actualizaciones')\n",
        "\n",
        "  plt.tight_layout()\n",
        "  plt.show()\n",
        "\n",
        "  ##PRUEBA##\n",
        "  #Tomar el 20% restante del dataset para probar el perceptron´\n",
        "  X_test = np.concatenate([X[fortyper+1:fiftyper,:],X[ninetyper+1:,:]],axis=0)\n",
        "  y_test = np.concatenate([Y[fortyper+1:fiftyper],Y[ninetyper+1:]],axis=0)\n",
        "\n",
        "  #calcular los errores en la clasificacion \n",
        "  error = 0\n",
        "  for i in range(0,len(X_test)):\n",
        "      if perceptron.predict(X_test[i]) != y_test[i]:\n",
        "          error += 1 \n",
        "  error = error / len(X_test) * 100\n",
        "  print(\"error = {}%\".format(error))\n",
        "\n",
        "entrenar_perceptron(X,Y,n_iter=30)\n",
        "entrenar_perceptron(X_1,Y,n_iter=30)\n",
        "entrenar_perceptron(X_2,Y,n_iter=30)"
      ],
      "metadata": {
        "colab": {
          "base_uri": "https://localhost:8080/",
          "height": 909
        },
        "id": "adPj9P5JBQik",
        "outputId": "aaca3eba-4c45-44f5-b535-1e10a27e61ec"
      },
      "execution_count": 24,
      "outputs": [
        {
          "output_type": "display_data",
          "data": {
            "text/plain": [
              "<Figure size 432x288 with 1 Axes>"
            ],
            "image/png": "[encoded data removed]"
          },
          "metadata": {
            "needs_background": "light"
          }
        },
        {
          "output_type": "stream",
          "name": "stdout",
          "text": [
            "error = 6.25%\n"
          ]
        },
        {
          "output_type": "display_data",
          "data": {
            "text/plain": [
              "<Figure size 432x288 with 1 Axes>"
            ],
            "image/png": "[encoded data removed]"
          },
          "metadata": {
            "needs_background": "light"
          }
        },
        {
          "output_type": "stream",
          "name": "stdout",
          "text": [
            "error = 10.714285714285714%\n"
          ]
        },
        {
          "output_type": "display_data",
          "data": {
            "text/plain": [
              "<Figure size 432x288 with 1 Axes>"
            ],
            "image/png": "[encoded data removed]"
          },
          "metadata": {
            "needs_background": "light"
          }
        },
        {
          "output_type": "stream",
          "name": "stdout",
          "text": [
            "error = 31.25%\n"
          ]
        }
      ]
    },
    {
      "cell_type": "markdown",
      "source": [
        "Note que el conjunto $X_2$ como no es linealmente separable, no tiene buen desempeño para predecir el Target bajo el modelo del perceptron, aunque aumente el número de iteraciones no bajará de 160 errores por iteración, mientras que  los conjuntos de datos $X_1$ y $X_2$ que sí son linealmente separables tienen mejor desempeño.\n",
        "\n",
        "También nos damos cuenta que a medida de que aumenta la dimensionalidad, se consigue un error menor en la predicción, pues $X_2$ y $X_1$ de dimensión 2 tienen mayor número de errores por iteración que $X$ de dimensión 30."
      ],
      "metadata": {
        "id": "Qp5j0fhDz27L"
      }
    },
    {
      "cell_type": "markdown",
      "source": [
        "# Entrenamiento y prueba del perceptron ahora dependiendo del avance del entrenamiento"
      ],
      "metadata": {
        "id": "vteKMUkuvW9z"
      }
    },
    {
      "cell_type": "markdown",
      "source": [
        "Un buen indicador del avance del entrenamiento es el número de errores que arroja en cada iteración, definiremos tol con el número máximo de errores deseado por iteración, una vez consiga el valor de $Tol$ parará.\n",
        "\n",
        "Costo total del entrenamiento y la predicción $O(TOL*lenX)$ o $O(n^2)$ en complejidad simplificada."
      ],
      "metadata": {
        "id": "FmkNgA-DyBC7"
      }
    },
    {
      "cell_type": "code",
      "source": [
        "###Cambiando n_iter\n",
        "#Costo total del entrenamiento+predicción O(TOL*lenX) // O(n^2) en complejidad simplificada \n",
        "class Perceptron_while:\n",
        "    def __init__(self, eta=0.1, tol = 10): #O(1)\n",
        "        self.eta = float(eta) #O(1)\n",
        "        self.tol = tol #O(1)\n",
        "\n",
        "    def train(self, X, y): #O(TOL*lenX)=O(n_iter*lenX)\n",
        "        # inicializar los pesos en 0\n",
        "        self.w = np.zeros(len(X[0])+1)  #O(1)\n",
        "        #vector de errores acumulados\n",
        "        self.errors = [] #O(1)\n",
        "\n",
        "        error = self.tol+1 #O(1)\n",
        "        #ciclo de entrenamiento\n",
        "        #Parará una vez se alcance el número de errores deeado\n",
        "        #Complejidad del búcle/ciclo O(n_iter*TOL)=O(n_iter*LenX)\n",
        "        while error > self.tol: #O(1)\n",
        "            error = 0 #O(1)\n",
        "            for x_i, target in zip(X,y):\n",
        "                #calcular el nuevo valor de los pesos\n",
        "                delta_w = np.array((target - self.predict(x_i)) * self.eta) #O(1)\n",
        "                #actualizar el valor de los pesos\n",
        "                self.w[1:] += delta_w * x_i #O(1)\n",
        "                #actualizar el valor del bias\n",
        "                self.w[0] += delta_w #O(1)\n",
        "                if (delta_w!=0): #O(1)\n",
        "                    error += 1 #O(1)\n",
        "            self.errors.append(error) #O(1)\n",
        " \n",
        "\n",
        "    def predict(self, X): #O(lenX)\n",
        "        #combinacion lineal, w[0] = bias\n",
        "        v = np.dot( X, self.w [1:]) + self.w[0]\n",
        "        #funcion de activación \n",
        "        if v > 0.0: #O(1)\n",
        "            return 1 #O(1)\n",
        "        return 0 #O(1)"
      ],
      "metadata": {
        "id": "v7b1nsV0Wutw"
      },
      "execution_count": 11,
      "outputs": []
    },
    {
      "cell_type": "code",
      "source": [
        "# Interfaz construida para ejecutar el percentron\n",
        "def entrenar_perceptron_while(X,Y,tol):\n",
        "  tamano = X.shape[0]\n",
        "\n",
        "  fortyper = int(tamano * .4) #¿Cuánto es el 40% del total de los datos?\n",
        "  fiftyper = int(tamano * .5) #¿Cuánto es el 50% del total de los datos?\n",
        "  ninetyper = int(tamano* .9) #¿Cuánto es el 90% del total de los datos?\n",
        "\n",
        "  #Selección datos de práctica\n",
        "  datapractice = np.concatenate([X[:fortyper,:],X[fiftyper:ninetyper,:]],axis=0)\n",
        "  resultspractice = np.concatenate([Y[:fortyper],Y[fiftyper:ninetyper]],axis=0)\n",
        "\n",
        "  ##ENTRENAMIENTO##\n",
        "  #tomar el 80 % del dataset para el entrenamiento\n",
        "  X_training = datapractice\n",
        "  y_training = resultspractice\n",
        "  #entrenar el perceptron\n",
        "  perceptron = Perceptron_while(2,tol)\n",
        "  perceptron.train(X_training, y_training)\n",
        "\n",
        "  plt.plot(range(1, len(perceptron.errors) + 1), perceptron.errors, marker='o')\n",
        "  plt.xlabel('Iteración')\n",
        "  plt.ylabel('Número de actualizaciones')\n",
        "\n",
        "  plt.tight_layout()\n",
        "  plt.show()\n",
        "\n",
        "  ##PRUEBA##\n",
        "  #Tomar el 20% restante del dataset para probar el perceptron´\n",
        "  X_test = np.concatenate([X[fortyper+1:fiftyper,:],X[ninetyper+1:,:]],axis=0)\n",
        "  y_test = np.concatenate([Y[fortyper+1:fiftyper],Y[ninetyper+1:]],axis=0)\n",
        "\n",
        "  #calcular los errores en la clasificacion \n",
        "  error = 0\n",
        "  for i in range(0,len(X_test)):\n",
        "      if perceptron.predict(X_test[i]) != y_test[i]:\n",
        "          error += 1 \n",
        "  error = error / len(X_test) * 100\n",
        "  print(\"error = {}%\".format(error))\n",
        "\n",
        "entrenar_perceptron_while(X,Y,tol=70)\n",
        "entrenar_perceptron_while(X_1,Y,tol=70)\n",
        "entrenar_perceptron_while(X_2,Y,tol=160)"
      ],
      "metadata": {
        "colab": {
          "base_uri": "https://localhost:8080/",
          "height": 909
        },
        "id": "YwW1YrLwux9A",
        "outputId": "04d97dc6-7a1d-4393-95f6-0b3c67585ccc"
      },
      "execution_count": 51,
      "outputs": [
        {
          "output_type": "display_data",
          "data": {
            "text/plain": [
              "<Figure size 432x288 with 1 Axes>"
            ],
            "image/png": "[encoded data removed]"
          },
          "metadata": {
            "needs_background": "light"
          }
        },
        {
          "output_type": "stream",
          "name": "stdout",
          "text": [
            "error = 12.5%\n"
          ]
        },
        {
          "output_type": "display_data",
          "data": {
            "text/plain": [
              "<Figure size 432x288 with 1 Axes>"
            ],
            "image/png": "[encoded data removed]"
          },
          "metadata": {
            "needs_background": "light"
          }
        },
        {
          "output_type": "stream",
          "name": "stdout",
          "text": [
            "error = 4.464285714285714%\n"
          ]
        },
        {
          "output_type": "display_data",
          "data": {
            "text/plain": [
              "<Figure size 432x288 with 1 Axes>"
            ],
            "image/png": "[encoded data removed]"
          },
          "metadata": {
            "needs_background": "light"
          }
        },
        {
          "output_type": "stream",
          "name": "stdout",
          "text": [
            "error = 30.357142857142854%\n"
          ]
        }
      ]
    },
    {
      "cell_type": "markdown",
      "source": [
        "Note que el conjunto $X_2$ como no es linealmente separable, apesar de haberle exigido una tolerancia de 160 errores, mayor a la de $X_1$ y $X_2$ no logra mostrar menor tasa de errores por iteración, de hecho desde la segunda iteración ambos modelos superan el desempeño de $X_2$ para la iteración 20."
      ],
      "metadata": {
        "id": "UovnlWnl1nH_"
      }
    },
    {
      "cell_type": "markdown",
      "source": [
        "### Conclusión sobre la separabilidad de los datos"
      ],
      "metadata": {
        "id": "CcjbrTvx2UHI"
      }
    },
    {
      "cell_type": "markdown",
      "source": [
        "A partir de los resultados obtenidos comparado $X$, $X1$ linealmente separables con $X_2$ no linealmente separable, es posible notar que este algoritmo de clasificación binaria por perceptron simple tiene buen desempeño con datos linealmente separables y no tanto con datos linealmente separables, mostrando mayor error y un mayor número de iteraciones para conjuntos de datos linealmente no separables como $X_2$."
      ],
      "metadata": {
        "id": "PpbDx3lq2YZ4"
      }
    }
  ]
}