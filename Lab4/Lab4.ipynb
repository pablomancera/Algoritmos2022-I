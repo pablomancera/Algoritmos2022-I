{
  "nbformat": 4,
  "nbformat_minor": 0,
  "metadata": {
    "colab": {
      "name": "Lab4.ipynb",
      "provenance": [],
      "collapsed_sections": [],
      "include_colab_link": true
    },
    "kernelspec": {
      "name": "python3",
      "display_name": "Python 3"
    },
    "language_info": {
      "name": "python"
    }
  },
  "cells": [
    {
      "cell_type": "markdown",
      "metadata": {
        "id": "view-in-github",
        "colab_type": "text"
      },
      "source": [
        "<a href=\"https://colab.research.google.com/github/rpenal/Algoritmos2022-I/blob/main/Lab4/Lab4.ipynb\" target=\"_parent\"><img src=\"https://colab.research.google.com/assets/colab-badge.svg\" alt=\"Open In Colab\"/></a>"
      ]
    },
    {
      "cell_type": "markdown",
      "source": [
        "# Algoritmo de fuerza bruta con precisión $x=raíz\\pm 0.0001$"
      ],
      "metadata": {
        "id": "mPcTh2A8V-Bb"
      }
    },
    {
      "cell_type": "code",
      "source": [
        "#Fuerza bruta COMPLEJIDAD O(n) tiempo de ejecuci+on 48s\n",
        "#La complejidad de la función signo(x) es 0(1)\n",
        "import time\n",
        "def signo(x):\n",
        "  if x<=0:  #Evaluar si un número es menor a 0 es O(1)\n",
        "    return -1\n",
        "  elif x>0: #Evaluar si un número es mayor a 0 es O(1)\n",
        "    return 1\n",
        "\n",
        "#La complejidad de la función búsqueda es O(n)\n",
        "def busqueda(polinom,a,b,distancia):\n",
        "  #x_a_explorar es una función anónima que nos permite definir una sucesión de números entre a y b con distancia=distancia\n",
        "  x_a_explorar = lambda i: a+i*distancia\n",
        "  i=0\n",
        "  #n es el número de elementos de la sucesión\n",
        "  n = int((b-a)/distancia)\n",
        "  #Iteramos sobre el total de números de la secuencia, por ello hacemos un while hata i menos que n\n",
        "  #El costo del bloque dentro del bucle es O(n)\n",
        "  while i<n:\n",
        "    #Como sabemos si f(x) y f(y) tienen signo contrario y x<y, entonces existe una raíz entre x y y.\n",
        "    #Como solo una pareja contigua de la sucesión tiene esta propiedad, (x+y)/2, aproximará el valor de la raíz\n",
        "    #Evaluar si el signo de la multiplicación de la pareja es negativo tiene costo O(1)\n",
        "    if signo(polinom(x_a_explorar(i))*polinom(x_a_explorar(i+1)))==-1:\n",
        "      #Nos permite obtener la raíz con una precisión de 0.0001 en x\n",
        "        print(f'Raíz en {(x_a_explorar(i)+x_a_explorar(i+1))/2}')\n",
        "    i+=1\n",
        "\n",
        "#Definimos nuestro polinomio como una función anónima lambda\n",
        "#Evaluar polinom(x) es O(1)\n",
        "polinom = lambda x: x**5-59*x**4+35*x**3-250*x**2+x-70\n",
        "tiempo_inicial = time.time()\n",
        "#Encuentra las raíces del polinomio x: x**5-59*x**4+35*x**3-250*x**2+x-70 entre -1000 y 1000 con una distancia en x de máx 0.0001, O(n)\n",
        "busqueda(polinom,-1000,1000,distancia=0.0001)\n",
        "tiempo_final = time.time()\n",
        "print(f\"Se ha ejecutado en {tiempo_final-tiempo_inicial} s\")"
      ],
      "metadata": {
        "colab": {
          "base_uri": "https://localhost:8080/"
        },
        "id": "bWFIlarUDy0y",
        "outputId": "128754e9-a409-4c64-9c5b-57fe15a6384b"
      },
      "execution_count": null,
      "outputs": [
        {
          "output_type": "stream",
          "name": "stdout",
          "text": [
            "Raíz en 58.47455000000002\n",
            "Se ha ejecutado en 42.50424790382385 s\n"
          ]
        }
      ]
    },
    {
      "cell_type": "markdown",
      "source": [
        "# Algoritmo de bisección"
      ],
      "metadata": {
        "id": "MABC-ie8rpFH"
      }
    },
    {
      "cell_type": "code",
      "source": [
        "# Recursivo bisección\n",
        "# Programa que ejecuta el algoritmo voraz de forma recursiva\n",
        "import time\n",
        "\n",
        "#Función que inicializa el programa y genera el ciclo del intervalo de -1000 a 1000\n",
        "def main():\n",
        "    # Dominio\n",
        "    a = -1000\n",
        "    b = 1000\n",
        "\n",
        "    # Iteración por números enteros\n",
        "    for i in range(a, b):\n",
        "        # Comprueva un salto de positivo a negativo o de negativo a positivo\n",
        "        if ((f(i) > 0) and (f(i+1) < 0)) or ((f(i) < 0) and (f(i+1) > 0)):\n",
        "            print(eval(i, i+1))\n",
        "\n",
        "        if f(i) == 0:\n",
        "          print(i)\n",
        "    \n",
        "#Función que evlúa la función suministrada\n",
        "def f(x):\n",
        "    #x^5-59x^4+35x^3-250x^2+x-70=0\n",
        "    y =  ((x ** 5) - (59 * (x ** 4)) + (35 * (x ** 3)) - (250 * (x ** 2)) + x - 70)     # Ecuación a evaluar por la guía\n",
        "    #y = ((321 * (x ** 3)) + (654 * (x ** 2)) - (25 * x) - 63)                          # Ecuación con mas de una raiz\n",
        "    return y\n",
        "\n",
        "\n",
        "#Función que evalua si se está en en la raíz de la ecuación\n",
        "def eval(a, b):\n",
        "    #Punto medio\n",
        "    c = a + abs(b - a)/2.0\n",
        "\n",
        "    # Se evalua f con respecto a el minimo, el maximo y el punto medio del dominio respectivamente \"f(x)\"\n",
        "    u = f(a)\n",
        "    v = f(b)\n",
        "    w = f(c)\n",
        "         \n",
        "    # Comprueva un salto de positivo a negativo o de negativo a positivo con respecto a f(x)\n",
        "    if (u < 0 and w > 0) or (u > 0 and w < 0):\n",
        "        # Función recursiva\n",
        "        return eval(float('{0:.12f}'.format(a)), float('{0:.12f}'.format(c)))\n",
        "    \n",
        "    # Comprueva un salto de positivo a negativo o de negativo a positivo\n",
        "    if (w < 0 and v > 0) or (w > 0 and v < 0):\n",
        "        # Función recursiva\n",
        "        return eval(float('{0:.12f}'.format(c)), float('{0:.12f}'.format(b)))\n",
        "    \n",
        "    # Si los 10 decimales de a y b son iguales retorna a \n",
        "    if float('{0:.10f}'.format(a)) == float('{0:.10f}'.format(b)):\n",
        "        return a\n",
        "\n",
        "#Ejecución del programa\n",
        "if __name__ == \"__main__\":\n",
        "    start_time = time.time()\n",
        "    main()\n",
        "    end_time = (time.time() - start_time)\n",
        "    print(\"----- \" + str(end_time) + \" segundos -----\")\n",
        "    # Complejidad O(n*log(n))"
      ],
      "metadata": {
        "id": "faHMGhGjrIus",
        "colab": {
          "base_uri": "https://localhost:8080/"
        },
        "outputId": "8ec0da66-2646-46b3-ace2-17805f17167e"
      },
      "execution_count": null,
      "outputs": [
        {
          "output_type": "stream",
          "name": "stdout",
          "text": [
            "58.474565066319\n",
            "----- 0.021967172622680664 segundos -----\n"
          ]
        }
      ]
    },
    {
      "cell_type": "markdown",
      "source": [
        "# Curiosidades: Algoritmo de Fuerza Bruta con mayor precisión sobre el valor de y"
      ],
      "metadata": {
        "id": "v2_j_KPmzkdW"
      }
    },
    {
      "cell_type": "code",
      "source": [
        "%%writefile clrootsbf.c\n",
        "#include <CL/cl.h>\n",
        "#include <stdio.h>\n",
        "\n",
        "#define STEPS 1000000000000\n",
        "#define WORK_GROUPS 1000\n",
        "#define START_RANGE 58\n",
        "#define END_RANGE 59\n",
        "\n",
        "const char *KERNEL = \"double formula(double x) {\"\n",
        "                     \"  return pow(x, 5) - 59 * pow(x, 4) + 35 * pow(x, 3) - \"\n",
        "                     \"250 * pow(x, 2) + x - 70;\"\n",
        "                     \"}\"\n",
        "                     \"\"\n",
        "                     \"kernel void roots(const double start, const double step) {\"\n",
        "                     \"  size_t id = get_global_id(0);\"\n",
        "                     \"  double x = start + ((step) * id);\"\n",
        "                     \"  double result = formula(x);\"\n",
        "                     \"  if (result > -0.0001 && result < 0.0001) {\"\n",
        "                     \"    printf(\\\"Root found at x = %.17g\\\\n\\\", x);\"\n",
        "                     \"  }\"\n",
        "                     \"}\";\n",
        "\n",
        "void findRoots(double (*formula)(double), double x1, double x2,\n",
        "               unsigned long num_op) {\n",
        "  if (x1 > x2) {\n",
        "    return;\n",
        "  }\n",
        "\n",
        "  double step = num_op ? ((-x1 + x2) * 2) / num_op : 1;\n",
        "\n",
        "  for (double i = x1; i <= x2; i += step) {\n",
        "    double result = formula(i);\n",
        "    // printf(\"%f\\n\", result);\n",
        "    if (result > -0.0001 && result < 0.0001) {\n",
        "      printf(\"%.17g\\n\", i);\n",
        "    }\n",
        "  }\n",
        "}\n",
        "\n",
        "int main() {\n",
        "  int cl_err = 0;\n",
        "\n",
        "  double start = START_RANGE;\n",
        "  double end = END_RANGE;\n",
        "  double step = (END_RANGE - START_RANGE) / (double) STEPS;\n",
        "  printf(\"Step for %ld operations in range [%f, %f] is %.17f\\n\", STEPS, start, end, step);\n",
        "\n",
        "  size_t global = STEPS;\n",
        "  size_t local = WORK_GROUPS;\n",
        "  size_t offset = 2;\n",
        "\n",
        "  cl_platform_id platform_id;\n",
        "  cl_device_id device_id;\n",
        "  cl_context context;\n",
        "  cl_command_queue commands;\n",
        "  cl_program program;\n",
        "  cl_kernel kernel;\n",
        "\n",
        "  cl_err = clGetPlatformIDs(1, &platform_id, NULL);\n",
        "  if (cl_err != CL_SUCCESS) {\n",
        "    printf(\"Error: Failed to get platform id!\\n\");\n",
        "    return EXIT_FAILURE;\n",
        "  }\n",
        "\n",
        "  cl_err = clGetDeviceIDs(platform_id, CL_DEVICE_TYPE_ALL, 1, &device_id, NULL);\n",
        "  if (cl_err != CL_SUCCESS) {\n",
        "    printf(\"Error: Failed to create a device group!\\n\");\n",
        "    return EXIT_FAILURE;\n",
        "  }\n",
        "\n",
        "  context = clCreateContext(NULL, 1, &device_id, NULL, NULL, &cl_err);\n",
        "  if (cl_err != CL_SUCCESS) {\n",
        "    printf(\"Error: Failed to create a compute context!\\n\");\n",
        "    return EXIT_FAILURE;\n",
        "  }\n",
        "\n",
        "  commands =\n",
        "      clCreateCommandQueueWithProperties(context, device_id, NULL, &cl_err);\n",
        "  if (cl_err != CL_SUCCESS) {\n",
        "    printf(\"Error: Failed to create a command queue!\\n\");\n",
        "    return EXIT_FAILURE;\n",
        "  }\n",
        "\n",
        "  program = clCreateProgramWithSource(context, 1, &KERNEL, NULL, &cl_err);\n",
        "  if (cl_err != CL_SUCCESS) {\n",
        "    printf(\"Error: Failed to create compute program!\\n\");\n",
        "    return EXIT_FAILURE;\n",
        "  }\n",
        "\n",
        "  cl_err = clBuildProgram(program, 0, NULL, NULL, NULL, NULL);\n",
        "  if (cl_err != CL_SUCCESS) {\n",
        "    size_t len;\n",
        "    char *log;\n",
        "\n",
        "    printf(\"Error: Failed to build program executable!\\n\");\n",
        "    clGetProgramBuildInfo(program, device_id, CL_PROGRAM_BUILD_LOG, 0, NULL,\n",
        "                          &len);\n",
        "\n",
        "    log = malloc(len);\n",
        "\n",
        "    clGetProgramBuildInfo(program, device_id, CL_PROGRAM_BUILD_LOG, len, log,\n",
        "                          &len);\n",
        "\n",
        "    printf(\"%s\\n\", log);\n",
        "    free(log);\n",
        "    return EXIT_FAILURE;\n",
        "  }\n",
        "\n",
        "  kernel = clCreateKernel(program, \"roots\", &cl_err);\n",
        "  if (cl_err != CL_SUCCESS) {\n",
        "    printf(\"Error: Failed to create compute kernel!\\n\");\n",
        "    return EXIT_FAILURE;\n",
        "  }\n",
        "\n",
        "  cl_err = clSetKernelArg(kernel, 0, sizeof(double), &start);\n",
        "  cl_err |= clSetKernelArg(kernel, 1, sizeof(double), &step);\n",
        "  if (cl_err != CL_SUCCESS) {\n",
        "    printf(\"Error: Failed to set kernel arguments!\\n\");\n",
        "    return EXIT_FAILURE;\n",
        "  }\n",
        "\n",
        "  cl_err = clEnqueueNDRangeKernel(commands, kernel, 1, &offset, &global, &local,\n",
        "                                  0, NULL, NULL);\n",
        "  if (cl_err != CL_SUCCESS) {\n",
        "    printf(\"Error: Failed to execute kernel!\\n\");\n",
        "    return EXIT_FAILURE;\n",
        "  }\n",
        "\n",
        "  clFinish(commands);\n",
        "  clReleaseKernel(kernel);\n",
        "  clReleaseProgram(program);\n",
        "  clReleaseCommandQueue(commands);\n",
        "  clReleaseContext(context);\n",
        "  clReleaseDevice(device_id);\n",
        "\n",
        "  return 0;\n",
        "}"
      ],
      "metadata": {
        "id": "AF4ltl_UmZZu"
      },
      "execution_count": null,
      "outputs": []
    },
    {
      "cell_type": "code",
      "source": [
        "!gcc -Wall -Wextra clrootsbf.c -o clrootsbf -lOpenCL -D CL_TARGET_OPENCL_VERSION=300 -O3\n",
        "!time ./clrootsbf"
      ],
      "metadata": {
        "id": "ikXZ9WyQmbOX"
      },
      "execution_count": null,
      "outputs": []
    }
  ]
}