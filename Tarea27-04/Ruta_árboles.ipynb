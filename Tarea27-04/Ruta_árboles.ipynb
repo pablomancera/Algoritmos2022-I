{
  "nbformat": 4,
  "nbformat_minor": 0,
  "metadata": {
    "colab": {
      "name": "Ruta árboles.ipynb",
      "provenance": [],
      "collapsed_sections": [],
      "include_colab_link": true
    },
    "kernelspec": {
      "name": "python3",
      "display_name": "Python 3"
    },
    "language_info": {
      "name": "python"
    }
  },
  "cells": [
    {
      "cell_type": "markdown",
      "metadata": {
        "id": "view-in-github",
        "colab_type": "text"
      },
      "source": [
        "<a href=\"https://colab.research.google.com/github/rpenal/Algoritmos2022-I/blob/main/Tarea27-04/Ruta_%C3%A1rboles.ipynb\" target=\"_parent\"><img src=\"https://colab.research.google.com/assets/colab-badge.svg\" alt=\"Open In Colab\"/></a>"
      ]
    },
    {
      "cell_type": "code",
      "execution_count": null,
      "metadata": {
        "colab": {
          "base_uri": "https://localhost:8080/"
        },
        "id": "-sRw00n4vo4A",
        "outputId": "fc228ef6-0a62-4e76-a5c1-b5873c7f1db4"
      },
      "outputs": [
        {
          "output_type": "stream",
          "name": "stdout",
          "text": [
            "Ingrese el valor raíz para la generación del árbol binario: 50\n",
            "Cantidad de nodos para la generación del árbol binario: 4\n",
            "Ingrese el valor (1): 25\n",
            "Ingrese el valor (2): 20\n",
            "Ingrese el valor (3): 30\n",
            "Ingrese el valor (4): 15\n",
            "Ingrese el valor que desea buscar en el árbol: 15\n",
            "\n",
            "La ruta del valor buscado desde el origen es:\n",
            "Izquierda Izquierda Izquierda "
          ]
        }
      ],
      "source": [
        "# Python program to demonstrate searching operation\n",
        "# in binary search tree without recursion\n",
        "class newNode:\n",
        "\n",
        "    # Constructor to create a new node\n",
        "    def __init__(self, data):\n",
        "        self.data = data\n",
        "        self.left = None\n",
        "        self.right = None\n",
        "\n",
        "# Function to check the given\n",
        "# key exist or not\n",
        "def iterativeSearch(root, key):\n",
        "    # Traverse until root reaches\n",
        "    # to dead end\n",
        "    while root != None:\n",
        "        # pass right subtree as new tree\n",
        "        if key > root.data:\n",
        "            print(\"Derecha\", end=\" \")\n",
        "            root = root.right\n",
        "            \n",
        "        # pass left subtree as new tree\n",
        "        elif key < root.data:\n",
        "            root = root.left\n",
        "            print(\"Izquierda\", end=\" \")\n",
        "        else:\n",
        "            return True # if the key is found return 1\n",
        "    return False\n",
        "\n",
        "# A utility function to insert a\n",
        "# new Node with given key in BST\n",
        "def insert(Node, data):\n",
        "    \n",
        "    # If the tree is empty, return\n",
        "    # a new Node\n",
        "    if Node == None:\n",
        "        return newNode(data)\n",
        "\n",
        "    # Otherwise, recur down the tree\n",
        "    if data < Node.data:\n",
        "        Node.left = insert(Node.left, data)\n",
        "    elif data > Node.data:\n",
        "        Node.right = insert(Node.right, data)\n",
        "\n",
        "    # return the (unchanged) Node pointer\n",
        "    return Node\n",
        "\n",
        "# Driver Code\n",
        "if __name__ == '__main__':\n",
        "    \n",
        "    # # Let us create following BST\n",
        "    # # 50\n",
        "    # # 30   70\n",
        "    # # / \\ / \\\n",
        "    # # 20 40 60 80\n",
        "    # root = None\n",
        "    # root = insert(root, 50)\n",
        "    # insert(root, 30)\n",
        "    # insert(root, 20)\n",
        "    # insert(root, 40)\n",
        "    # insert(root, 70)\n",
        "    # insert(root, 60)\n",
        "    # insert(root, 80)\n",
        "    root = None\n",
        "    raiz = input(\"Ingrese el valor raíz para la generación del árbol binario: \")\n",
        "    root = insert(root,int(raiz))\n",
        "    cantidad = input(\"Cantidad de nodos para la generación del árbol binario: \")\n",
        "    for i in range(int(cantidad)):\n",
        "        entrada = input(\"Ingrese el valor ({}): \".format(i+1))\n",
        "        insert(root,int(entrada))\n",
        "    \n",
        "    busqueda = input(\"Ingrese el valor que desea buscar en el árbol: \")\n",
        "    \n",
        "    print(\"\\nLa ruta del valor buscado desde el origen es:\")\n",
        "    iterativeSearch(root,int(busqueda))\n",
        "     \n",
        "\n",
        "\n",
        "# This code is contributed by PranchalK"
      ]
    }
  ]
}